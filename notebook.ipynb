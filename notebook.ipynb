{
 "cells": [
  {
   "cell_type": "code",
   "execution_count": 1,
   "metadata": {
    "_cell_guid": "b1076dfc-b9ad-4769-8c92-a6c4dae69d19",
    "_uuid": "8f2839f25d086af736a60e9eeb907d3b93b6e0e5",
    "trusted": true
   },
   "outputs": [
    {
     "name": "stderr",
     "output_type": "stream",
     "text": [
      "/opt/conda/lib/python3.6/site-packages/h5py/__init__.py:36: FutureWarning: Conversion of the second argument of issubdtype from `float` to `np.floating` is deprecated. In future, it will be treated as `np.float64 == np.dtype(float).type`.\n  from ._conv import register_converters as _register_converters\nUsing TensorFlow backend.\n"
     ]
    },
    {
     "name": "stdout",
     "output_type": "stream",
     "text": [
      "['train.csv', 'test.csv']\n"
     ]
    }
   ],
   "source": [
    "# This Python 3 environment comes with many helpful analytics libraries installed\n",
    "# It is defined by the kaggle/python docker image: https://github.com/kaggle/docker-python\n",
    "# For example, here's several helpful packages to load in \n",
    "\n",
    "import numpy as np # linear algebra\n",
    "import pandas as pd # data processing, CSV file I/O (e.g. pd.read_csv)\n",
    "from keras.datasets import fashion_mnist \n",
    "from keras.models import Sequential\n",
    "from keras.layers import Dense, Dropout, Flatten, BatchNormalization\n",
    "from keras.layers import Conv2D, MaxPooling2D\n",
    "from keras.optimizers import SGD, Adam\n",
    "from keras.utils import to_categorical\n",
    "\n",
    "# Input data files are available in the \"../input/\" directory.\n",
    "# For example, running this (by clicking run or pressing Shift+Enter) will list the files in the input directory\n",
    "\n",
    "import os\n",
    "print(os.listdir(\"../input\"))\n",
    "\n",
    "# Any results you write to the current directory are saved as output."
   ]
  },
  {
   "cell_type": "code",
   "execution_count": 2,
   "metadata": {
    "_cell_guid": "79c7e3d0-c299-4dcb-8224-4455121ee9b0",
    "_uuid": "d629ff2d2480ee46fbb7e2d37f6b5fab8052498a",
    "trusted": true,
    "collapsed": true
   },
   "outputs": [],
   "source": [
    "train = pd.read_csv('../input/train.csv')\n",
    "test = pd.read_csv('../input/test.csv')"
   ]
  },
  {
   "cell_type": "code",
   "execution_count": 3,
   "metadata": {
    "_cell_guid": "73681cd4-35d3-444a-8044-e21677816439",
    "_uuid": "db49eda8515f040d080a460950bbca9257ffb991",
    "trusted": true
   },
   "outputs": [
    {
     "name": "stdout",
     "output_type": "stream",
     "text": [
      "   label  pixel0  pixel1  pixel2  pixel3  pixel4  pixel5  pixel6  pixel7  \\\n0      1       0       0       0       0       0       0       0       0   \n1      0       0       0       0       0       0       0       0       0   \n2      1       0       0       0       0       0       0       0       0   \n3      4       0       0       0       0       0       0       0       0   \n4      0       0       0       0       0       0       0       0       0   \n\n   pixel8    ...     pixel774  pixel775  pixel776  pixel777  pixel778  \\\n0       0    ...            0         0         0         0         0   \n1       0    ...            0         0         0         0         0   \n2       0    ...            0         0         0         0         0   \n3       0    ...            0         0         0         0         0   \n4       0    ...            0         0         0         0         0   \n\n   pixel779  pixel780  pixel781  pixel782  pixel783  \n0         0         0         0         0         0  \n1         0         0         0         0         0  \n2         0         0         0         0         0  \n3         0         0         0         0         0  \n4         0         0         0         0         0  \n\n[5 rows x 785 columns]\n   pixel0  pixel1  pixel2  pixel3  pixel4  pixel5  pixel6  pixel7  pixel8  \\\n0       0       0       0       0       0       0       0       0       0   \n1       0       0       0       0       0       0       0       0       0   \n2       0       0       0       0       0       0       0       0       0   \n3       0       0       0       0       0       0       0       0       0   \n4       0       0       0       0       0       0       0       0       0   \n\n   pixel9    ...     pixel774  pixel775  pixel776  pixel777  pixel778  \\\n0       0    ...            0         0         0         0         0   \n1       0    ...            0         0         0         0         0   \n2       0    ...            0         0         0         0         0   \n3       0    ...            0         0         0         0         0   \n4       0    ...            0         0         0         0         0   \n\n   pixel779  pixel780  pixel781  pixel782  pixel783  \n0         0         0         0         0         0  \n1         0         0         0         0         0  \n2         0         0         0         0         0  \n3         0         0         0         0         0  \n4         0         0         0         0         0  \n\n[5 rows x 784 columns]\n"
     ]
    }
   ],
   "source": [
    "print(train.head())\n",
    "print(test.head())"
   ]
  },
  {
   "cell_type": "code",
   "execution_count": 7,
   "metadata": {
    "trusted": true,
    "_uuid": "d66cf6271007ee7e4011d10b214b36285bd9beb8"
   },
   "outputs": [
    {
     "name": "stdout",
     "output_type": "stream",
     "text": [
      "(42000, 784)\n(42000,)\n(28000, 784)\n"
     ]
    }
   ],
   "source": [
    "X_train = (train.iloc[:,1:]).as_matrix()\n",
    "print(X_train.shape)\n",
    "Y_train = train.iloc[:,0].as_matrix()\n",
    "print(Y_train.shape)\n",
    "X_test = test.iloc[:,:].as_matrix()\n",
    "print(X_test.shape)"
   ]
  },
  {
   "cell_type": "code",
   "execution_count": 8,
   "metadata": {
    "trusted": true,
    "_uuid": "9e5aba47fd662636af7fde7e0e529f8392fedb62"
   },
   "outputs": [
    {
     "name": "stdout",
     "output_type": "stream",
     "text": [
      "42000\n(42000, 10)\n"
     ]
    }
   ],
   "source": [
    "print(X_train.shape[0])\n",
    "img_rows, img_cols = 28, 28\n",
    "X_train = X_train.reshape(X_train.shape[0], img_rows, img_cols, 1)\n",
    "X_test = X_test.reshape(X_test.shape[0], img_rows, img_cols, 1)\n",
    "input_shape = (img_rows, img_cols, 1)\n",
    "\n",
    "X_train = X_train.astype('float32')\n",
    "X_test = X_test.astype('float32')\n",
    "X_train /= 255\n",
    "X_test /= 255\n",
    "\n",
    "Y_train = to_categorical((Y_train))\n",
    "print((Y_train.shape))"
   ]
  },
  {
   "cell_type": "code",
   "execution_count": 9,
   "metadata": {
    "trusted": true,
    "collapsed": true,
    "_uuid": "ae31d73d5f21eb9656de4ff743f6620c0dae7bad"
   },
   "outputs": [],
   "source": [
    "img_rows, img_cols = 28, 28\n",
    "input_shape = (img_rows, img_cols, 1)\n",
    "def create_model():\n",
    "    model = Sequential()\n",
    "    \n",
    "    model.add(Conv2D(32, kernel_size=(3, 3), activation='relu', input_shape=input_shape))\n",
    "    model.add(Conv2D(32, (3, 3), activation='relu'))\n",
    "    model.add(MaxPooling2D(pool_size=(2, 2)))\n",
    "    model.add(Dropout(0.25))\n",
    "    \n",
    "    model.add(Conv2D(64, (3, 3), activation='relu'))\n",
    "    model.add(Conv2D(64, (3, 3), activation='relu'))\n",
    "    model.add(BatchNormalization(axis=1, momentum=0.99, epsilon=0.001))\n",
    "    model.add(Dropout(0.25))\n",
    "    \n",
    "    model.add(Conv2D(64, (3, 3), activation='relu'))\n",
    "    model.add(Conv2D(64, (3, 3), activation='relu'))\n",
    "    model.add(BatchNormalization(axis=1, momentum=0.99, epsilon=0.001))\n",
    "    model.add(MaxPooling2D(pool_size=(2, 2)))\n",
    "    model.add(Dropout(0.25))\n",
    "\n",
    "    model.add(Flatten())\n",
    "    model.add(Dense(2500, activation='relu'))\n",
    "    model.add(Dense(250, activation='relu'))\n",
    "    model.add(BatchNormalization(axis=-1, momentum=0.99, epsilon=0.001))\n",
    "    model.add(Dropout(0.5))\n",
    "    model.add(Dense(10, activation='softmax'))\n",
    "    return model"
   ]
  },
  {
   "cell_type": "code",
   "execution_count": 10,
   "metadata": {
    "trusted": true,
    "_uuid": "03655e2230ca7bc572aa473404fb49793d49d5bc"
   },
   "outputs": [
    {
     "name": "stdout",
     "output_type": "stream",
     "text": [
      "_________________________________________________________________\nLayer (type)                 Output Shape              Param #   \n=================================================================\nconv2d_1 (Conv2D)            (None, 26, 26, 32)        320       \n_________________________________________________________________\nconv2d_2 (Conv2D)            (None, 24, 24, 32)        9248      \n_________________________________________________________________\nmax_pooling2d_1 (MaxPooling2 (None, 12, 12, 32)        0         \n_________________________________________________________________\ndropout_1 (Dropout)          (None, 12, 12, 32)        0         \n_________________________________________________________________\nconv2d_3 (Conv2D)            (None, 10, 10, 64)        18496     \n_________________________________________________________________\nconv2d_4 (Conv2D)            (None, 8, 8, 64)          36928     \n_________________________________________________________________\nbatch_normalization_1 (Batch (None, 8, 8, 64)          32        \n_________________________________________________________________\ndropout_2 (Dropout)          (None, 8, 8, 64)          0         \n_________________________________________________________________\nconv2d_5 (Conv2D)            (None, 6, 6, 64)          36928     \n_________________________________________________________________\nconv2d_6 (Conv2D)            (None, 4, 4, 64)          36928     \n_________________________________________________________________\nbatch_normalization_2 (Batch (None, 4, 4, 64)          16        \n_________________________________________________________________\nmax_pooling2d_2 (MaxPooling2 (None, 2, 2, 64)          0         \n_________________________________________________________________\ndropout_3 (Dropout)          (None, 2, 2, 64)          0         \n_________________________________________________________________\nflatten_1 (Flatten)          (None, 256)               0         \n_________________________________________________________________\ndense_1 (Dense)              (None, 2500)              642500    \n_________________________________________________________________\ndense_2 (Dense)              (None, 250)               625250    \n_________________________________________________________________\nbatch_normalization_3 (Batch (None, 250)               1000      \n_________________________________________________________________\ndropout_4 (Dropout)          (None, 250)               0         \n_________________________________________________________________\ndense_3 (Dense)              (None, 10)                2510      \n=================================================================\nTotal params: 1,410,156\nTrainable params: 1,409,632\nNon-trainable params: 524\n_________________________________________________________________\n"
     ]
    }
   ],
   "source": [
    "model = create_model()\n",
    "model.summary()"
   ]
  },
  {
   "cell_type": "code",
   "execution_count": 14,
   "metadata": {
    "trusted": true,
    "_uuid": "d3e8ed3a646a615ccfddb72460991899bdcedcfc"
   },
   "outputs": [
    {
     "name": "stdout",
     "output_type": "stream",
     "text": [
      "Train on 29399 samples, validate on 12601 samples\nEpoch 1/50\n29399/29399 [==============================] - 18s 627us/step - loss: 0.9335 - acc: 0.7109 - val_loss: 0.1931 - val_acc: 0.9383\nEpoch 2/50\n29399/29399 [==============================] - 15s 512us/step - loss: 0.2808 - acc: 0.9111 - val_loss: 0.1058 - val_acc: 0.9668\nEpoch 3/50\n29399/29399 [==============================] - 14s 477us/step - loss: 0.1661 - acc: 0.9483 - val_loss: 0.0711 - val_acc: 0.9775\nEpoch 4/50\n29399/29399 [==============================] - 14s 474us/step - loss: 0.1276 - acc: 0.9604 - val_loss: 0.0564 - val_acc: 0.9827\nEpoch 5/50\n29399/29399 [==============================] - 14s 470us/step - loss: 0.1026 - acc: 0.9681 - val_loss: 0.0480 - val_acc: 0.9848\nEpoch 6/50\n29399/29399 [==============================] - 14s 477us/step - loss: 0.0823 - acc: 0.9738 - val_loss: 0.0480 - val_acc: 0.9846\nEpoch 7/50\n29399/29399 [==============================] - 14s 465us/step - loss: 0.0727 - acc: 0.9771 - val_loss: 0.0499 - val_acc: 0.9854\nEpoch 8/50\n29399/29399 [==============================] - 14s 461us/step - loss: 0.0627 - acc: 0.9809 - val_loss: 0.0386 - val_acc: 0.9879\nEpoch 9/50\n29399/29399 [==============================] - 15s 499us/step - loss: 0.0598 - acc: 0.9821 - val_loss: 0.0427 - val_acc: 0.9867\nEpoch 10/50\n29399/29399 [==============================] - 14s 472us/step - loss: 0.0551 - acc: 0.9824 - val_loss: 0.0374 - val_acc: 0.9884\nEpoch 11/50\n29399/29399 [==============================] - 14s 473us/step - loss: 0.0478 - acc: 0.9855 - val_loss: 0.0350 - val_acc: 0.9896\nEpoch 12/50\n29399/29399 [==============================] - 14s 483us/step - loss: 0.0428 - acc: 0.9868 - val_loss: 0.0313 - val_acc: 0.9907\nEpoch 13/50\n29399/29399 [==============================] - 14s 477us/step - loss: 0.0420 - acc: 0.9860 - val_loss: 0.0300 - val_acc: 0.9905\nEpoch 14/50\n29399/29399 [==============================] - 14s 471us/step - loss: 0.0391 - acc: 0.9879 - val_loss: 0.0305 - val_acc: 0.9909\nEpoch 15/50\n29399/29399 [==============================] - 14s 468us/step - loss: 0.0357 - acc: 0.9881 - val_loss: 0.0307 - val_acc: 0.9906\nEpoch 16/50\n29399/29399 [==============================] - 15s 500us/step - loss: 0.0353 - acc: 0.9891 - val_loss: 0.0330 - val_acc: 0.9894\nEpoch 17/50\n29399/29399 [==============================] - 14s 474us/step - loss: 0.0307 - acc: 0.9901 - val_loss: 0.0281 - val_acc: 0.9919\nEpoch 18/50\n29399/29399 [==============================] - 14s 466us/step - loss: 0.0314 - acc: 0.9901 - val_loss: 0.0280 - val_acc: 0.9921\nEpoch 19/50\n29399/29399 [==============================] - 14s 474us/step - loss: 0.0280 - acc: 0.9912 - val_loss: 0.0273 - val_acc: 0.9917\nEpoch 20/50\n29399/29399 [==============================] - 14s 472us/step - loss: 0.0250 - acc: 0.9916 - val_loss: 0.0295 - val_acc: 0.9915\nEpoch 21/50\n29399/29399 [==============================] - 14s 467us/step - loss: 0.0243 - acc: 0.9921 - val_loss: 0.0264 - val_acc: 0.9924\nEpoch 22/50\n29399/29399 [==============================] - 14s 475us/step - loss: 0.0215 - acc: 0.9936 - val_loss: 0.0263 - val_acc: 0.9921\nEpoch 23/50\n29399/29399 [==============================] - 15s 508us/step - loss: 0.0230 - acc: 0.9926 - val_loss: 0.0301 - val_acc: 0.9912\nEpoch 24/50\n29399/29399 [==============================] - 14s 479us/step - loss: 0.0226 - acc: 0.9926 - val_loss: 0.0337 - val_acc: 0.9898\nEpoch 25/50\n29399/29399 [==============================] - 14s 468us/step - loss: 0.0198 - acc: 0.9940 - val_loss: 0.0321 - val_acc: 0.9913\nEpoch 26/50\n29399/29399 [==============================] - 14s 480us/step - loss: 0.0187 - acc: 0.9944 - val_loss: 0.0274 - val_acc: 0.9922\nEpoch 27/50\n29399/29399 [==============================] - 14s 478us/step - loss: 0.0177 - acc: 0.9941 - val_loss: 0.0281 - val_acc: 0.9932\nEpoch 28/50\n29399/29399 [==============================] - 14s 475us/step - loss: 0.0188 - acc: 0.9937 - val_loss: 0.0275 - val_acc: 0.9930\nEpoch 29/50\n29399/29399 [==============================] - 14s 470us/step - loss: 0.0178 - acc: 0.9938 - val_loss: 0.0275 - val_acc: 0.9934\nEpoch 30/50\n29399/29399 [==============================] - 15s 516us/step - loss: 0.0156 - acc: 0.9945 - val_loss: 0.0279 - val_acc: 0.9933\nEpoch 31/50\n29399/29399 [==============================] - 14s 489us/step - loss: 0.0152 - acc: 0.9952 - val_loss: 0.0259 - val_acc: 0.9933\nEpoch 32/50\n29399/29399 [==============================] - 14s 479us/step - loss: 0.0142 - acc: 0.9956 - val_loss: 0.0282 - val_acc: 0.9926\nEpoch 33/50\n29399/29399 [==============================] - 14s 475us/step - loss: 0.0124 - acc: 0.9962 - val_loss: 0.0285 - val_acc: 0.9923\nEpoch 34/50\n29399/29399 [==============================] - 14s 475us/step - loss: 0.0150 - acc: 0.9951 - val_loss: 0.0289 - val_acc: 0.9931\nEpoch 35/50\n29399/29399 [==============================] - 14s 472us/step - loss: 0.0129 - acc: 0.9955 - val_loss: 0.0281 - val_acc: 0.9934\nEpoch 36/50\n29399/29399 [==============================] - 14s 465us/step - loss: 0.0120 - acc: 0.9965 - val_loss: 0.0283 - val_acc: 0.9932\nEpoch 37/50\n29399/29399 [==============================] - 15s 507us/step - loss: 0.0123 - acc: 0.9961 - val_loss: 0.0243 - val_acc: 0.9940\nEpoch 38/50\n29399/29399 [==============================] - 14s 478us/step - loss: 0.0110 - acc: 0.9965 - val_loss: 0.0252 - val_acc: 0.9933\nEpoch 39/50\n29399/29399 [==============================] - 14s 477us/step - loss: 0.0127 - acc: 0.9954 - val_loss: 0.0264 - val_acc: 0.9929\nEpoch 40/50\n29399/29399 [==============================] - 14s 474us/step - loss: 0.0109 - acc: 0.9964 - val_loss: 0.0268 - val_acc: 0.9937\nEpoch 41/50\n29399/29399 [==============================] - 14s 473us/step - loss: 0.0105 - acc: 0.9962 - val_loss: 0.0269 - val_acc: 0.9943\nEpoch 42/50\n29399/29399 [==============================] - 14s 467us/step - loss: 0.0105 - acc: 0.9968 - val_loss: 0.0283 - val_acc: 0.9931\nEpoch 43/50\n29399/29399 [==============================] - 14s 468us/step - loss: 0.0096 - acc: 0.9966 - val_loss: 0.0275 - val_acc: 0.9938\nEpoch 44/50\n29399/29399 [==============================] - 15s 502us/step - loss: 0.0091 - acc: 0.9966 - val_loss: 0.0288 - val_acc: 0.9937\nEpoch 45/50\n29399/29399 [==============================] - 14s 468us/step - loss: 0.0087 - acc: 0.9972 - val_loss: 0.0281 - val_acc: 0.9934\nEpoch 46/50\n29399/29399 [==============================] - 14s 464us/step - loss: 0.0090 - acc: 0.9970 - val_loss: 0.0279 - val_acc: 0.9927\nEpoch 47/50\n29399/29399 [==============================] - 14s 481us/step - loss: 0.0082 - acc: 0.9972 - val_loss: 0.0285 - val_acc: 0.9934\nEpoch 48/50\n29399/29399 [==============================] - 14s 478us/step - loss: 0.0091 - acc: 0.9971 - val_loss: 0.0270 - val_acc: 0.9938\nEpoch 49/50\n29399/29399 [==============================] - 14s 470us/step - loss: 0.0082 - acc: 0.9973 - val_loss: 0.0287 - val_acc: 0.9938\nEpoch 50/50\n29399/29399 [==============================] - 14s 468us/step - loss: 0.0077 - acc: 0.9973 - val_loss: 0.0321 - val_acc: 0.9924\n"
     ]
    }
   ],
   "source": [
    "def train():\n",
    "    model = create_model()\n",
    "    model.compile(optimizer=Adam(lr=0.0001, beta_1=0.9, beta_2=0.999), loss='categorical_crossentropy', metrics=['accuracy'])\n",
    "    model.fit(X_train, Y_train, batch_size=64, epochs=50, verbose=1,shuffle=False, validation_split=0.3)\n",
    "#     model.save_weights('./model/mnist.h5')\n",
    "train()"
   ]
  },
  {
   "cell_type": "code",
   "execution_count": null,
   "metadata": {
    "trusted": true,
    "collapsed": true,
    "_uuid": "9d22f80154f2a05d60538c61cbd7ec1e7101bd90"
   },
   "outputs": [],
   "source": [
    ""
   ]
  }
 ],
 "metadata": {
  "language_info": {
   "name": "python",
   "version": "3.6.4",
   "mimetype": "text/x-python",
   "codemirror_mode": {
    "name": "ipython",
    "version": 3
   },
   "pygments_lexer": "ipython3",
   "nbconvert_exporter": "python",
   "file_extension": ".py"
  },
  "kernelspec": {
   "display_name": "Python 3",
   "language": "python",
   "name": "python3"
  }
 },
 "nbformat": 4,
 "nbformat_minor": 1
}
