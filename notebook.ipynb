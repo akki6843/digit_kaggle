{
  "cells": [
    {
      "metadata": {
        "_uuid": "8f2839f25d086af736a60e9eeb907d3b93b6e0e5",
        "_cell_guid": "b1076dfc-b9ad-4769-8c92-a6c4dae69d19",
        "trusted": true
      },
      "cell_type": "code",
      "source": "# This Python 3 environment comes with many helpful analytics libraries installed\n# It is defined by the kaggle/python docker image: https://github.com/kaggle/docker-python\n# For example, here's several helpful packages to load in \n\nimport numpy as np # linear algebra\nimport pandas as pd # data processing, CSV file I/O (e.g. pd.read_csv)\nfrom keras.datasets import fashion_mnist \nfrom keras.models import Sequential\nfrom keras.layers import Dense, Dropout, Flatten, BatchNormalization\nfrom keras.layers import Conv2D, MaxPooling2D\nfrom keras.optimizers import SGD, Adam\nfrom keras.utils import to_categorical\n\n# Input data files are available in the \"../input/\" directory.\n# For example, running this (by clicking run or pressing Shift+Enter) will list the files in the input directory\n\nimport os\nprint(os.listdir(\"../input\"))\n\n# Any results you write to the current directory are saved as output.",
      "execution_count": 1,
      "outputs": [
        {
          "output_type": "stream",
          "text": "/opt/conda/lib/python3.6/site-packages/h5py/__init__.py:36: FutureWarning: Conversion of the second argument of issubdtype from `float` to `np.floating` is deprecated. In future, it will be treated as `np.float64 == np.dtype(float).type`.\n  from ._conv import register_converters as _register_converters\nUsing TensorFlow backend.\n",
          "name": "stderr"
        },
        {
          "output_type": "stream",
          "text": "['train.csv', 'test.csv']\n",
          "name": "stdout"
        }
      ]
    },
    {
      "metadata": {
        "_uuid": "d629ff2d2480ee46fbb7e2d37f6b5fab8052498a",
        "collapsed": true,
        "_cell_guid": "79c7e3d0-c299-4dcb-8224-4455121ee9b0",
        "trusted": true
      },
      "cell_type": "code",
      "source": "train = pd.read_csv('../input/train.csv')\ntest = pd.read_csv('../input/test.csv')",
      "execution_count": 2,
      "outputs": []
    },
    {
      "metadata": {
        "_uuid": "db49eda8515f040d080a460950bbca9257ffb991",
        "_cell_guid": "73681cd4-35d3-444a-8044-e21677816439",
        "trusted": true
      },
      "cell_type": "code",
      "source": "print(train.head())\nprint(test.head())",
      "execution_count": 3,
      "outputs": [
        {
          "output_type": "stream",
          "text": "   label  pixel0  pixel1  pixel2  pixel3  pixel4  pixel5  pixel6  pixel7  \\\n0      1       0       0       0       0       0       0       0       0   \n1      0       0       0       0       0       0       0       0       0   \n2      1       0       0       0       0       0       0       0       0   \n3      4       0       0       0       0       0       0       0       0   \n4      0       0       0       0       0       0       0       0       0   \n\n   pixel8    ...     pixel774  pixel775  pixel776  pixel777  pixel778  \\\n0       0    ...            0         0         0         0         0   \n1       0    ...            0         0         0         0         0   \n2       0    ...            0         0         0         0         0   \n3       0    ...            0         0         0         0         0   \n4       0    ...            0         0         0         0         0   \n\n   pixel779  pixel780  pixel781  pixel782  pixel783  \n0         0         0         0         0         0  \n1         0         0         0         0         0  \n2         0         0         0         0         0  \n3         0         0         0         0         0  \n4         0         0         0         0         0  \n\n[5 rows x 785 columns]\n   pixel0  pixel1  pixel2  pixel3  pixel4  pixel5  pixel6  pixel7  pixel8  \\\n0       0       0       0       0       0       0       0       0       0   \n1       0       0       0       0       0       0       0       0       0   \n2       0       0       0       0       0       0       0       0       0   \n3       0       0       0       0       0       0       0       0       0   \n4       0       0       0       0       0       0       0       0       0   \n\n   pixel9    ...     pixel774  pixel775  pixel776  pixel777  pixel778  \\\n0       0    ...            0         0         0         0         0   \n1       0    ...            0         0         0         0         0   \n2       0    ...            0         0         0         0         0   \n3       0    ...            0         0         0         0         0   \n4       0    ...            0         0         0         0         0   \n\n   pixel779  pixel780  pixel781  pixel782  pixel783  \n0         0         0         0         0         0  \n1         0         0         0         0         0  \n2         0         0         0         0         0  \n3         0         0         0         0         0  \n4         0         0         0         0         0  \n\n[5 rows x 784 columns]\n",
          "name": "stdout"
        }
      ]
    },
    {
      "metadata": {
        "_uuid": "6830c5cbf5668e646910ff4208d8427a6047b353",
        "_cell_guid": "04aa7012-e873-44ee-8a66-5c4ca2790b1c",
        "trusted": true
      },
      "cell_type": "code",
      "source": "X_train = (train.iloc[:,1:]).as_matrix()\nprint(X_train.shape)\nY_train = train.iloc[:,0].as_matrix()\nprint(Y_train.shape)\nX_test = test.iloc[:,:].as_matrix()\nprint(X_test.shape)",
      "execution_count": 4,
      "outputs": [
        {
          "output_type": "stream",
          "text": "(42000, 784)\n(42000,)\n(28000, 784)\n",
          "name": "stdout"
        }
      ]
    },
    {
      "metadata": {
        "_uuid": "c434c134301cc0db50a48e78dc4841bf4d319282",
        "_cell_guid": "a6c03754-64e6-447b-81a1-c400b8cae917",
        "trusted": true,
        "scrolled": true
      },
      "cell_type": "code",
      "source": "print(X_train.shape[0])\nimg_rows, img_cols = 28, 28\nX_train = X_train.reshape(X_train.shape[0], img_rows, img_cols, 1)\nX_test = X_test.reshape(X_test.shape[0], img_rows, img_cols, 1)\ninput_shape = (img_rows, img_cols, 1)\n\nX_train = X_train.astype('float32')\nX_test = X_test.astype('float32')\nX_train /= 255\nX_test /= 255\n\nY_train = to_categorical((Y_train))\nprint((Y_train.shape))",
      "execution_count": 5,
      "outputs": [
        {
          "output_type": "stream",
          "text": "42000\n(42000, 10)\n",
          "name": "stdout"
        }
      ]
    },
    {
      "metadata": {
        "_uuid": "5fd744234de141b8806479bdc7f81bbc7adc32e9",
        "collapsed": true,
        "_cell_guid": "3e377dc9-c7a7-4a79-b50d-53341c543870",
        "trusted": true
      },
      "cell_type": "code",
      "source": "img_rows, img_cols = 28, 28\ninput_shape = (img_rows, img_cols, 1)\ndef create_model():\n    model = Sequential()\n    \n    model.add(Conv2D(32, kernel_size=(3, 3), activation='relu', input_shape=input_shape))\n    model.add(Conv2D(32, (3, 3), activation='relu'))\n    model.add(MaxPooling2D(pool_size=(2, 2)))\n    model.add(Dropout(0.25))\n    \n    model.add(Conv2D(64, (3, 3), activation='relu'))\n    model.add(Conv2D(64, (3, 3), activation='relu'))\n    model.add(BatchNormalization(axis=1, momentum=0.99, epsilon=0.001))\n    model.add(Dropout(0.25))\n    \n    model.add(Conv2D(64, (3, 3), activation='relu'))\n    model.add(Conv2D(64, (3, 3), activation='relu'))\n    model.add(BatchNormalization(axis=1, momentum=0.99, epsilon=0.001))\n    model.add(MaxPooling2D(pool_size=(2, 2)))\n    model.add(Dropout(0.25))\n\n    model.add(Flatten())\n    model.add(Dense(2500, activation='relu'))\n    model.add(Dense(250, activation='relu'))\n    model.add(BatchNormalization(axis=-1, momentum=0.99, epsilon=0.001))\n    model.add(Dropout(0.5))\n    model.add(Dense(10, activation='softmax'))\n    return model",
      "execution_count": 6,
      "outputs": []
    },
    {
      "metadata": {
        "_uuid": "8829883bc3acd60083d34932dcccee6b50099701",
        "_cell_guid": "dba9647c-e1a6-458f-b476-583a7e0a9b6f",
        "trusted": true
      },
      "cell_type": "code",
      "source": "model = create_model()\nmodel.summary()",
      "execution_count": 7,
      "outputs": [
        {
          "output_type": "stream",
          "text": "_________________________________________________________________\nLayer (type)                 Output Shape              Param #   \n=================================================================\nconv2d_1 (Conv2D)            (None, 26, 26, 32)        320       \n_________________________________________________________________\nconv2d_2 (Conv2D)            (None, 24, 24, 32)        9248      \n_________________________________________________________________\nmax_pooling2d_1 (MaxPooling2 (None, 12, 12, 32)        0         \n_________________________________________________________________\ndropout_1 (Dropout)          (None, 12, 12, 32)        0         \n_________________________________________________________________\nconv2d_3 (Conv2D)            (None, 10, 10, 64)        18496     \n_________________________________________________________________\nconv2d_4 (Conv2D)            (None, 8, 8, 64)          36928     \n_________________________________________________________________\nbatch_normalization_1 (Batch (None, 8, 8, 64)          32        \n_________________________________________________________________\ndropout_2 (Dropout)          (None, 8, 8, 64)          0         \n_________________________________________________________________\nconv2d_5 (Conv2D)            (None, 6, 6, 64)          36928     \n_________________________________________________________________\nconv2d_6 (Conv2D)            (None, 4, 4, 64)          36928     \n_________________________________________________________________\nbatch_normalization_2 (Batch (None, 4, 4, 64)          16        \n_________________________________________________________________\nmax_pooling2d_2 (MaxPooling2 (None, 2, 2, 64)          0         \n_________________________________________________________________\ndropout_3 (Dropout)          (None, 2, 2, 64)          0         \n_________________________________________________________________\nflatten_1 (Flatten)          (None, 256)               0         \n_________________________________________________________________\ndense_1 (Dense)              (None, 2500)              642500    \n_________________________________________________________________\ndense_2 (Dense)              (None, 250)               625250    \n_________________________________________________________________\nbatch_normalization_3 (Batch (None, 250)               1000      \n_________________________________________________________________\ndropout_4 (Dropout)          (None, 250)               0         \n_________________________________________________________________\ndense_3 (Dense)              (None, 10)                2510      \n=================================================================\nTotal params: 1,410,156\nTrainable params: 1,409,632\nNon-trainable params: 524\n_________________________________________________________________\n",
          "name": "stdout"
        }
      ]
    },
    {
      "metadata": {
        "_uuid": "1cdf9a52e9094b06a59ffe0fb137e5d9c8b565a4",
        "_cell_guid": "069b46b7-fa4e-4547-8b20-f86b29ae0f8e",
        "trusted": true,
        "scrolled": true
      },
      "cell_type": "code",
      "source": "def train():\n    model = create_model()\n    model.compile(optimizer=Adam(lr=0.0001, beta_1=0.9, beta_2=0.999), loss='categorical_crossentropy', metrics=['accuracy'])\n    model.fit(X_train, Y_train, batch_size=64, epochs=50, verbose=1,shuffle=False, validation_split=0.3)\n#     model.save_weights('./model/mnist.h5')\ntrain()",
      "execution_count": 8,
      "outputs": [
        {
          "output_type": "stream",
          "text": "Train on 29399 samples, validate on 12601 samples\nEpoch 1/50\n29399/29399 [==============================] - 18s 604us/step - loss: 0.9565 - acc: 0.6992 - val_loss: 0.1958 - val_acc: 0.9395\nEpoch 2/50\n29399/29399 [==============================] - 13s 455us/step - loss: 0.2778 - acc: 0.9140 - val_loss: 0.1040 - val_acc: 0.9666\nEpoch 3/50\n29399/29399 [==============================] - 13s 441us/step - loss: 0.1711 - acc: 0.9465 - val_loss: 0.0697 - val_acc: 0.9782\nEpoch 4/50\n29399/29399 [==============================] - 13s 453us/step - loss: 0.1275 - acc: 0.9608 - val_loss: 0.0564 - val_acc: 0.9821\nEpoch 5/50\n29399/29399 [==============================] - 14s 461us/step - loss: 0.1028 - acc: 0.9682 - val_loss: 0.0496 - val_acc: 0.9849\nEpoch 6/50\n29399/29399 [==============================] - 13s 458us/step - loss: 0.0886 - acc: 0.9722 - val_loss: 0.0433 - val_acc: 0.9868\nEpoch 7/50\n29399/29399 [==============================] - 13s 455us/step - loss: 0.0787 - acc: 0.9761 - val_loss: 0.0439 - val_acc: 0.9856\nEpoch 8/50\n29399/29399 [==============================] - 14s 475us/step - loss: 0.0672 - acc: 0.9785 - val_loss: 0.0415 - val_acc: 0.9870\nEpoch 9/50\n29399/29399 [==============================] - 13s 454us/step - loss: 0.0590 - acc: 0.9816 - val_loss: 0.0402 - val_acc: 0.9874\nEpoch 10/50\n29399/29399 [==============================] - 13s 456us/step - loss: 0.0548 - acc: 0.9832 - val_loss: 0.0374 - val_acc: 0.9880\nEpoch 11/50\n29399/29399 [==============================] - 13s 451us/step - loss: 0.0495 - acc: 0.9843 - val_loss: 0.0359 - val_acc: 0.9894\nEpoch 12/50\n29399/29399 [==============================] - 14s 485us/step - loss: 0.0480 - acc: 0.9851 - val_loss: 0.0393 - val_acc: 0.9878\nEpoch 13/50\n29399/29399 [==============================] - 13s 455us/step - loss: 0.0441 - acc: 0.9853 - val_loss: 0.0365 - val_acc: 0.9887\nEpoch 14/50\n29399/29399 [==============================] - 13s 453us/step - loss: 0.0405 - acc: 0.9868 - val_loss: 0.0327 - val_acc: 0.9901\nEpoch 15/50\n29399/29399 [==============================] - 13s 457us/step - loss: 0.0391 - acc: 0.9878 - val_loss: 0.0342 - val_acc: 0.9898\nEpoch 16/50\n29399/29399 [==============================] - 13s 457us/step - loss: 0.0362 - acc: 0.9890 - val_loss: 0.0300 - val_acc: 0.9915\nEpoch 17/50\n29399/29399 [==============================] - 13s 451us/step - loss: 0.0342 - acc: 0.9886 - val_loss: 0.0299 - val_acc: 0.9912\nEpoch 18/50\n29399/29399 [==============================] - 13s 453us/step - loss: 0.0312 - acc: 0.9899 - val_loss: 0.0354 - val_acc: 0.9894\nEpoch 19/50\n29399/29399 [==============================] - 14s 487us/step - loss: 0.0295 - acc: 0.9900 - val_loss: 0.0327 - val_acc: 0.9908\nEpoch 20/50\n29399/29399 [==============================] - 14s 462us/step - loss: 0.0292 - acc: 0.9907 - val_loss: 0.0298 - val_acc: 0.9925\nEpoch 21/50\n29399/29399 [==============================] - 13s 456us/step - loss: 0.0255 - acc: 0.9920 - val_loss: 0.0304 - val_acc: 0.9923\nEpoch 22/50\n29399/29399 [==============================] - 13s 452us/step - loss: 0.0254 - acc: 0.9918 - val_loss: 0.0275 - val_acc: 0.9922\nEpoch 23/50\n29399/29399 [==============================] - 14s 483us/step - loss: 0.0226 - acc: 0.9930 - val_loss: 0.0276 - val_acc: 0.9927\nEpoch 24/50\n29399/29399 [==============================] - 14s 464us/step - loss: 0.0206 - acc: 0.9939 - val_loss: 0.0278 - val_acc: 0.9924\nEpoch 25/50\n29399/29399 [==============================] - 13s 451us/step - loss: 0.0215 - acc: 0.9930 - val_loss: 0.0282 - val_acc: 0.9917\nEpoch 26/50\n29399/29399 [==============================] - 13s 457us/step - loss: 0.0186 - acc: 0.9942 - val_loss: 0.0317 - val_acc: 0.9913\nEpoch 27/50\n29399/29399 [==============================] - 14s 470us/step - loss: 0.0201 - acc: 0.9935 - val_loss: 0.0317 - val_acc: 0.9908\nEpoch 28/50\n29399/29399 [==============================] - 13s 457us/step - loss: 0.0159 - acc: 0.9953 - val_loss: 0.0307 - val_acc: 0.9919\nEpoch 29/50\n29399/29399 [==============================] - 13s 452us/step - loss: 0.0170 - acc: 0.9938 - val_loss: 0.0263 - val_acc: 0.9936\nEpoch 30/50\n29399/29399 [==============================] - 14s 487us/step - loss: 0.0153 - acc: 0.9950 - val_loss: 0.0307 - val_acc: 0.9917\nEpoch 31/50\n29399/29399 [==============================] - 13s 456us/step - loss: 0.0168 - acc: 0.9946 - val_loss: 0.0281 - val_acc: 0.9929\nEpoch 32/50\n29399/29399 [==============================] - 14s 464us/step - loss: 0.0149 - acc: 0.9950 - val_loss: 0.0251 - val_acc: 0.9931\nEpoch 33/50\n29399/29399 [==============================] - 13s 458us/step - loss: 0.0152 - acc: 0.9948 - val_loss: 0.0271 - val_acc: 0.9933\nEpoch 34/50\n29399/29399 [==============================] - 14s 486us/step - loss: 0.0137 - acc: 0.9953 - val_loss: 0.0295 - val_acc: 0.9921\nEpoch 35/50\n29399/29399 [==============================] - 14s 468us/step - loss: 0.0121 - acc: 0.9958 - val_loss: 0.0281 - val_acc: 0.9929\nEpoch 36/50\n29399/29399 [==============================] - 13s 456us/step - loss: 0.0145 - acc: 0.9953 - val_loss: 0.0250 - val_acc: 0.9933\nEpoch 37/50\n29399/29399 [==============================] - 14s 460us/step - loss: 0.0128 - acc: 0.9963 - val_loss: 0.0288 - val_acc: 0.9925\nEpoch 38/50\n29399/29399 [==============================] - 14s 460us/step - loss: 0.0115 - acc: 0.9962 - val_loss: 0.0294 - val_acc: 0.9932\nEpoch 39/50\n29399/29399 [==============================] - 13s 454us/step - loss: 0.0102 - acc: 0.9966 - val_loss: 0.0287 - val_acc: 0.9930\nEpoch 40/50\n29399/29399 [==============================] - 13s 454us/step - loss: 0.0120 - acc: 0.9959 - val_loss: 0.0272 - val_acc: 0.9937\nEpoch 41/50\n29399/29399 [==============================] - 14s 487us/step - loss: 0.0108 - acc: 0.9966 - val_loss: 0.0307 - val_acc: 0.9931\nEpoch 42/50\n29399/29399 [==============================] - 13s 456us/step - loss: 0.0112 - acc: 0.9962 - val_loss: 0.0289 - val_acc: 0.9931\nEpoch 43/50\n29399/29399 [==============================] - 13s 452us/step - loss: 0.0087 - acc: 0.9971 - val_loss: 0.0300 - val_acc: 0.9925\nEpoch 44/50\n29399/29399 [==============================] - 13s 455us/step - loss: 0.0102 - acc: 0.9966 - val_loss: 0.0289 - val_acc: 0.9928\nEpoch 45/50\n29399/29399 [==============================] - 13s 452us/step - loss: 0.0102 - acc: 0.9965 - val_loss: 0.0308 - val_acc: 0.9931\nEpoch 46/50\n29399/29399 [==============================] - 13s 457us/step - loss: 0.0086 - acc: 0.9970 - val_loss: 0.0315 - val_acc: 0.9931\nEpoch 47/50\n29399/29399 [==============================] - 13s 454us/step - loss: 0.0084 - acc: 0.9974 - val_loss: 0.0262 - val_acc: 0.9940\nEpoch 48/50\n29399/29399 [==============================] - 14s 487us/step - loss: 0.0095 - acc: 0.9970 - val_loss: 0.0301 - val_acc: 0.9924\nEpoch 49/50\n29399/29399 [==============================] - 14s 462us/step - loss: 0.0076 - acc: 0.9972 - val_loss: 0.0316 - val_acc: 0.9921\nEpoch 50/50\n29399/29399 [==============================] - 13s 457us/step - loss: 0.0099 - acc: 0.9965 - val_loss: 0.0330 - val_acc: 0.9929\n",
          "name": "stdout"
        }
      ]
    },
    {
      "metadata": {
        "_uuid": "f70bd3d7f8323b549797b2221fc6c9d0a100262f",
        "collapsed": true,
        "_cell_guid": "e9f3612e-c880-4b98-9db4-5501d9fd67f6",
        "trusted": true
      },
      "cell_type": "code",
      "source": "model = create_model()\n",
      "execution_count": 9,
      "outputs": []
    },
    {
      "metadata": {
        "trusted": true,
        "_uuid": "c6765c920af42b0da780f279f2a869314968032b"
      },
      "cell_type": "code",
      "source": "preds = model.predict(X_test, verbose=0)[0]\nprint(np.argmax(preds))",
      "execution_count": 20,
      "outputs": [
        {
          "output_type": "stream",
          "text": "2\n",
          "name": "stdout"
        }
      ]
    },
    {
      "metadata": {
        "trusted": true,
        "scrolled": true,
        "_uuid": "f4e9b06268d2c8db0d6e836da486f21663924e59"
      },
      "cell_type": "code",
      "source": "img_name=[]\nlabel = []\n\nfor i in range(0,len(X_test)):\n    print(i)\n    preds = model.predict(X_test, verbose=0)[i]\n    img_name.append(i)\n    label.append(np.argmax(preds))\nimageID = pd.DataFrame({'ImageId':img_name})\nLABEL = pd.DataFrame({'Label':label})",
      "execution_count": null,
      "outputs": [
        {
          "output_type": "stream",
          "text": "0\n",
          "name": "stdout"
        }
      ]
    },
    {
      "metadata": {
        "trusted": true,
        "scrolled": true,
        "_uuid": "9d7f163d88fd28083cc898f02295516fedea9dba"
      },
      "cell_type": "code",
      "source": "",
      "execution_count": 19,
      "outputs": [
        {
          "output_type": "stream",
          "text": "2\n",
          "name": "stdout"
        }
      ]
    },
    {
      "metadata": {
        "trusted": true,
        "collapsed": true,
        "_uuid": "30bc7124a795828f9067c02d12cbd7f27a2a1e27"
      },
      "cell_type": "code",
      "source": "",
      "execution_count": null,
      "outputs": []
    }
  ],
  "metadata": {
    "language_info": {
      "name": "python",
      "version": "3.6.4",
      "mimetype": "text/x-python",
      "codemirror_mode": {
        "name": "ipython",
        "version": 3
      },
      "pygments_lexer": "ipython3",
      "nbconvert_exporter": "python",
      "file_extension": ".py"
    },
    "kernelspec": {
      "display_name": "Python 3",
      "language": "python",
      "name": "python3"
    }
  },
  "nbformat": 4,
  "nbformat_minor": 1
}